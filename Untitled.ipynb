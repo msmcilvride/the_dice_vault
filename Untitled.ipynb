{
 "cells": [
  {
   "cell_type": "code",
   "execution_count": 96,
   "metadata": {},
   "outputs": [],
   "source": [
    "import random as rd"
   ]
  },
  {
   "cell_type": "code",
   "execution_count": 97,
   "metadata": {},
   "outputs": [],
   "source": [
    "# methods\n",
    "\n",
    "def roll(sides):\n",
    "    result = rd.randint(1,sides)\n",
    "    return result"
   ]
  },
  {
   "cell_type": "code",
   "execution_count": 98,
   "metadata": {},
   "outputs": [],
   "source": [
    "# functions\n",
    "\n",
    "def ability_check(stat, challenge=0, condition=0):\n",
    "    \"\"\"Rolls an ability check.\n",
    "    \n",
    "    character: any number between 3 and 18 inclusive\n",
    "    condition: a roll(x) method where x is the number of sides of the die to roll\n",
    "    condition: a roll(x) method where x is the number of sides of the die to roll\n",
    "    \"\"\"\n",
    "    \n",
    "    result = roll(20)\n",
    "    success = False\n",
    "    ceiling = stat\n",
    "    floor = max(challenge, condition)\n",
    "    \n",
    "    if floor < result < ceiling:\n",
    "        success = True\n",
    "    \n",
    "    return success"
   ]
  },
  {
   "cell_type": "code",
   "execution_count": 99,
   "metadata": {},
   "outputs": [
    {
     "name": "stdout",
     "output_type": "stream",
     "text": [
      "Success Rate:  24.59 %\n"
     ]
    }
   ],
   "source": [
    "# workbench\n",
    "\n",
    "successes = 0\n",
    "trials = 10000\n",
    "\n",
    "for _ in range(trials):\n",
    "    successes += ability_check(stat=10, # change this value equal to the stat\n",
    "                               challenge=roll(6), # change this value to the number of sides\n",
    "                               condition=roll(4)) # change this value to the number of sides\n",
    "\n",
    "print(\"Success Rate: \", successes / trials * 100, \"%\")"
   ]
  },
  {
   "cell_type": "code",
   "execution_count": null,
   "metadata": {},
   "outputs": [],
   "source": []
  },
  {
   "cell_type": "code",
   "execution_count": null,
   "metadata": {},
   "outputs": [],
   "source": []
  }
 ],
 "metadata": {
  "kernelspec": {
   "display_name": "Python 3",
   "language": "python",
   "name": "python3"
  },
  "language_info": {
   "codemirror_mode": {
    "name": "ipython",
    "version": 3
   },
   "file_extension": ".py",
   "mimetype": "text/x-python",
   "name": "python",
   "nbconvert_exporter": "python",
   "pygments_lexer": "ipython3",
   "version": "3.7.6"
  }
 },
 "nbformat": 4,
 "nbformat_minor": 4
}
